{
 "cells": [
  {
   "cell_type": "markdown",
   "id": "453b2dc9-7fdf-4831-9e6b-a386c4907956",
   "metadata": {},
   "source": [
    "# MLRun Questioning Example\n",
    "\n",
    "This notebook demonstrates how to set up and use MLRun for questioning tasks. Follow the steps below to get started."
   ]
  },
  {
   "cell_type": "markdown",
   "id": "bd86e880-9bb3-4956-9119-f542a1139e09",
   "metadata": {},
   "source": [
    "## Setup Instructions\n",
    "\n",
    "### 1. Install Required Packages\n",
    "First, install the necessary packages using pip:"
   ]
  },
  {
   "cell_type": "code",
   "execution_count": null,
   "id": "c38a23e8-76d8-4deb-8893-1335922295c1",
   "metadata": {},
   "outputs": [],
   "source": [
    "# Install MLRun from the feature branch\n",
    "!pip install git+https://github.com/mlrun/genai-factory.git"
   ]
  },
  {
   "cell_type": "markdown",
   "id": "83bba4bd-a963-47c6-9c5c-34d8ef84e734",
   "metadata": {},
   "source": [
    "### 2. Set Environment Variables\n",
    "Set up the necessary environment variables:"
   ]
  },
  {
   "cell_type": "code",
   "execution_count": null,
   "outputs": [],
   "source": [
    "# Set the path for the environment file\n",
    "!export GENAI_FACTORY_ENV_PATH=$(pwd)/.env"
   ],
   "metadata": {
    "collapsed": false
   },
   "id": "7bb4a98dcb31cae1"
  },
  {
   "cell_type": "code",
   "execution_count": null,
   "id": "4be63ee2-4ac4-4632-b809-724309f51e",
   "metadata": {},
   "outputs": [],
   "source": [
    "%%writefile .env\n",
    "\n",
    "# Configure your environment variables here\n",
    "OPENAI_BASE_URL=...  # Your OpenAI base URL\n",
    "OPENAI_API_KEY=...  # Your OpenAI API key\n",
    "GENAI_FACTORY_IS_LOCAL_CONFIG=...  # Set to 'true' for local configuration\n",
    "MLRUN_GENAI_LOCAL_CHROMA=...  # Path to local Chroma database (if applicable)"
   ]
  },
  {
   "cell_type": "markdown",
   "id": "bae15e6d-56eb-403a-9dbe-3db603824cd4",
   "metadata": {},
   "source": [
    "## Deploying the GenAI Factory\n",
    "\n",
    "The following command will start the API controller server and the UI server in a local Docker container. It will also initialize the controller database."
   ]
  },
  {
   "cell_type": "markdown",
   "source": [
    "```bash\n",
    "make genai-factory\n",
    "```\n",
    "\n",
    "Run the above command in your terminal to deploy the GenAI Factory."
   ],
   "metadata": {
    "collapsed": false
   },
   "id": "61b0c86cc526df30"
  },
  {
   "cell_type": "markdown",
   "id": "a8dc4313-4390-4297-9b27-9c419db84b4a",
   "metadata": {},
   "source": [
    "## Deploying the Workflow"
   ]
  },
  {
   "cell_type": "code",
   "execution_count": null,
   "id": "1ddb3bbd-d29b-467e-9526-c93d83e099f4",
   "metadata": {},
   "outputs": [],
   "source": [
    "# Deploy the workflow defined in workflow.py\n",
    "!genai-factory run workflow.py"
   ]
  },
  {
   "cell_type": "markdown",
   "id": "2cf33b47-f313-46dd-a5d6-2c0359cc7296",
   "metadata": {},
   "source": [
    "## Data Ingestion\n",
    "\n",
    "Ingest the MLRun documentation data that we want to use for questioning later. This step should be performed in the controller container."
   ]
  },
  {
   "cell_type": "markdown",
   "source": [
    "Run the following command in your terminal while inside the controller container:\n",
    "\n",
    "```bash\n",
    "python -m controller ingest -l web https://docs.mlrun.org/en/stable/index.html\n",
    "```\n",
    "\n",
    "This command will ingest the MLRun documentation from the specified URL."
   ],
   "metadata": {
    "collapsed": false
   },
   "id": "88d5b8ffda9bbe8b"
  },
  {
   "cell_type": "markdown",
   "source": [
    "## Conclusion: Exploring the GenAI Factory UI\n",
    "\n",
    "Now that you've completed the setup process, deployed the GenAI Factory, and ingested your data, you're ready to explore the system through its user interface (UI). Here's what you can do next:\n",
    "\n",
    "1. **Access the UI**: Open your web browser and navigate to the URL where the GenAI Factory UI is hosted.\n",
    "\n",
    "2. **Try Querying**: Use the querying interface to ask questions about the ingested MLRun documentation. This will help you understand how the system processes and responds to queries.\n",
    "\n",
    "3. **Experiment**: Don't hesitate to click around and explore different features of the UI. The GenAI Factory is designed to be intuitive and user-friendly.\n",
    "\n",
    "Remember, the UI is your gateway to interacting with the GenAI Factory. It provides a visual and interactive way to manage your AI and machine learning tasks, monitor performance, and gain insights from your data.\n",
    "\n",
    "Feel free to refer back to the documentation if you need help understanding any specific features or functionalities you encounter in the UI."
   ],
   "metadata": {
    "collapsed": false
   },
   "id": "6ca5be89df585ac1"
  },
  {
   "cell_type": "markdown",
   "source": [],
   "metadata": {
    "collapsed": false
   },
   "id": "ce9f1015a62080a5"
  }
 ],
 "metadata": {
  "kernelspec": {
   "name": "python3",
   "language": "python",
   "display_name": "Python 3 (ipykernel)"
  },
  "language_info": {
   "codemirror_mode": {
    "name": "ipython",
    "version": 3
   },
   "file_extension": ".py",
   "mimetype": "text/x-python",
   "name": "python",
   "nbconvert_exporter": "python",
   "pygments_lexer": "ipython3",
   "version": "3.9.19"
  }
 },
 "nbformat": 4,
 "nbformat_minor": 5
}
