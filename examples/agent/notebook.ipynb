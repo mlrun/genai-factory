{
 "cells": [
  {
   "cell_type": "markdown",
   "metadata": {},
   "source": [
    "# Beef Wellington Recipe & Wikipedia Questioning Agent Example\n",
    "\n",
    "## Table of Contents\n",
    "1. [Introduction](#Introduction)\n",
    "2. [Setup](#Setup)\n",
    "3. [Deploy Factory](#Deploying-the-GenAI-Factory)\n",
    "4. [Deploy Workflow](#Deploying-the-Workflow)\n",
    "5. [Ingest Recipe](#Ingest-Recipe)\n",
    "6. [Troubleshooting](#Troubleshooting)\n",
    "7. [Create Your Custom Step](#Short-tutorial---How-to-create-a-custom-step)\n",
    "\n",
    "## Introduction\n",
    "This notebook demonstrates how to set up and run an agent with a couple of tools.<br>\n",
    "The first tool is a simple RAG that is ingested with Gordon Ramsay's recipe for Beef Wellington, and the second tool is a Wikipedia search engine.<br>\n",
    "It covers the deployment of the controller, workflow, and UI components, as well as ingesting the recipe data."
   ]
  },
  {
   "cell_type": "markdown",
   "metadata": {},
   "source": [
    "## Setup\n",
    "\n",
    "Before you start, make sure you have completed the following steps:\n",
    "\n",
    "1. Install the required packages:\n",
    "```bash\n",
    "pip install -r requirements.txt\n",
    "```\n",
    "\n",
    "2. Install mlrun from the feature branch (temporary step):\n",
    "```bash\n",
    "pip install git+https://github.com/mlrun/genai-factory.git\n",
    "```\n",
    "\n",
    "3. Set the environment variable:"
   ]
  },
  {
   "cell_type": "code",
   "execution_count": null,
   "metadata": {},
   "outputs": [],
   "source": [
    "!export GENAI_FACTORY_ENV_PATH=$(pwd)/.env"
   ]
  },
  {
   "cell_type": "code",
   "execution_count": null,
   "metadata": {},
   "outputs": [],
   "source": [
    "%%writefile .env\n",
    "\n",
    "# Configure your environment variables here\n",
    "OPENAI_BASE_URL=...  # Your OpenAI base URL\n",
    "OPENAI_API_KEY=...  # Your OpenAI API key\n",
    "GENAI_FACTORY_IS_LOCAL_CONFIG=...  # Set to 'true' for local configuration\n",
    "MLRUN_GENAI_LOCAL_CHROMA=...  # Path to local Chroma database (if applicable)"
   ]
  },
  {
   "cell_type": "markdown",
   "metadata": {},
   "source": [
    "## Deploying the GenAI Factory\n",
    "\n",
    "The following command will start the API controller server and the UI server in a local Docker container. It will also initialize the controller database."
   ]
  },
  {
   "cell_type": "markdown",
   "metadata": {},
   "source": [
    "```bash\n",
    "make genai-factory\n",
    "```\n",
    "\n",
    "Run the above command in your terminal to deploy the GenAI Factory."
   ]
  },
  {
   "cell_type": "markdown",
   "metadata": {},
   "source": [
    "## Deploying the Workflow"
   ]
  },
  {
   "cell_type": "code",
   "execution_count": null,
   "metadata": {},
   "outputs": [],
   "source": [
    "# Deploy the workflow defined in workflow.py\n",
    "!genai-factory run workflow.py"
   ]
  },
  {
   "cell_type": "markdown",
   "metadata": {},
   "source": [
    "This command will start the server and you should see output indicating that the server is running."
   ]
  },
  {
   "cell_type": "markdown",
   "metadata": {},
   "source": [
    "## Ingest Recipe\n",
    "\n",
    "To ingest the Gordon Ramsay Beef Wellington recipe into the system, run the following command in the controller's Docker container:"
   ]
  },
  {
   "cell_type": "markdown",
   "metadata": {},
   "source": [
    "```bash\n",
    "python -m controller ingest -l web https://www.gordonramsay.com/gr/recipes/beef-wellington/\n",
    "```"
   ]
  },
  {
   "cell_type": "markdown",
   "metadata": {},
   "source": [
    "## Troubleshooting\n",
    "\n",
    "If you encounter any issues:\n",
    "\n",
    "1. Ensure all required packages are installed correctly.\n",
    "2. Check that the GENAI_FACTORY_ENV_PATH is set correctly.\n",
    "3. Make sure Docker is running for the controller deployment.\n",
    "4. Verify that the ports used (8000 for the workflow, 3000 for the UI, 8001 for the controller) are not in use by other applications.\n",
    "\n",
    "If problems persist, check the console output for specific error messages and refer to the project documentation for more detailed troubleshooting steps."
   ]
  },
  {
   "cell_type": "markdown",
   "metadata": {},
   "source": [
    "## Short tutorial - How to create a custom step\n",
    "\n",
    "1. Create a new Python file in your working directory.\n",
    "2. Define a new class that inherits from `ChainRunner`.\n",
    "3. Implement the `_run` method with the desired functionality.\n",
    "4. The `_run` method gets an `event` input which states the condition of the workflow, the `event` usually contains a `query` field.\n",
    "   The `run` method is also expected to return a dictionary with the following keys: \"answer\", \"sources\". Any other fields are optional for specific implementations.\n",
    "5. Initialize the class at the designated location inside the app's `workflow.py` file.\n",
    "6. Run the workflow to execute the new step as part of the app."
   ]
  },
  {
   "cell_type": "markdown",
   "metadata": {},
   "source": []
  }
 ],
 "metadata": {
  "kernelspec": {
   "display_name": "Python 3 (ipykernel)",
   "language": "python",
   "name": "python3"
  },
  "language_info": {
   "codemirror_mode": {
    "name": "ipython",
    "version": 3
   },
   "file_extension": ".py",
   "mimetype": "text/x-python",
   "name": "python",
   "nbconvert_exporter": "python",
   "pygments_lexer": "ipython3",
   "version": "3.9.19"
  }
 },
 "nbformat": 4,
 "nbformat_minor": 4
}
